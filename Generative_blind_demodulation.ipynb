{
 "cells": [
  {
   "cell_type": "code",
   "execution_count": 1,
   "metadata": {
    "colab": {},
    "colab_type": "code",
    "id": "ApWZMJTvDsv7"
   },
   "outputs": [],
   "source": [
    "import plac\n",
    "from tqdm import tqdm\n",
    "import numpy as np\n",
    "from PIL import Image\n",
    "import torch\n",
    "import torchvision\n",
    "from torch import nn\n",
    "import torch.nn.functional as F\n",
    "from torch.autograd import Variable\n",
    "from torch.optim import SGD\n",
    "from torchvision.datasets import MNIST\n",
    "from torchvision import transforms\n",
    "from torch.utils.data import Dataset\n",
    "from torchvision.utils import make_grid\n",
    "import zipfile\n",
    "import matplotlib.pyplot as plt\n"
   ]
  },
  {
   "cell_type": "code",
   "execution_count": 2,
   "metadata": {
    "colab": {},
    "colab_type": "code",
    "id": "i5Xgqh4qDwXH"
   },
   "outputs": [],
   "source": [
    "class IndexedDataset(Dataset):\n",
    "    \"\"\" \n",
    "    Wraps another dataset to sample from. Returns the sampled indices during iteration.\n",
    "    In other words, instead of producing (X, y) it produces (X, y, idx)\n",
    "    \"\"\"\n",
    "    def __init__(self, base_dataset):\n",
    "        self.base = base_dataset\n",
    "\n",
    "    def __len__(self):\n",
    "        return len(self.base)\n",
    "\n",
    "    def __getitem__(self, idx):\n",
    "        img, label = self.base[idx]\n",
    "        return (img, label, idx)\n",
    "\n",
    "class Generator_dist(nn.Module):\n",
    "    def __init__(self,code_dim, d=128):\n",
    "        super(Generator_dist, self).__init__()\n",
    "        self.deconv1 = nn.ConvTranspose2d(code_dim, d*8, 4, 1, 0)\n",
    "        self.deconv1_bn = nn.BatchNorm2d(d*8)\n",
    "        self.deconv2 = nn.ConvTranspose2d(d*8, d*4, 4, 2, 1)\n",
    "        self.deconv2_bn = nn.BatchNorm2d(d*4)\n",
    "        self.deconv3 = nn.ConvTranspose2d(d*4, d*2, 4, 2, 1)\n",
    "        self.deconv3_bn = nn.BatchNorm2d(d*2)\n",
    "        self.deconv4 = nn.ConvTranspose2d(d*2, d, 4, 2, 1)\n",
    "        self.deconv4_bn = nn.BatchNorm2d(d)\n",
    "        self.deconv5 = nn.ConvTranspose2d(d, 1, 4, 2, 1)\n",
    "\n",
    "    # forward method\n",
    "    def forward(self, input):\n",
    "        x = F.relu(self.deconv1_bn(self.deconv1(input)))\n",
    "        x = F.relu(self.deconv2_bn(self.deconv2(x)))\n",
    "        x = F.relu(self.deconv3_bn(self.deconv3(x)))\n",
    "        x = F.relu(self.deconv4_bn(self.deconv4(x)))\n",
    "        x = F.tanh(self.deconv5(x))\n",
    "\n",
    "        return x\n",
    "\n",
    "class Generator_signal(nn.Module):\n",
    "        def __init__(self,code_dim, d=128):\n",
    "            super(Generator_signal, self).__init__()\n",
    "            self.deconv1 = nn.ConvTranspose2d(code_dim, d*8, 4, 1, 0)\n",
    "            self.deconv1_bn = nn.BatchNorm2d(d*8)\n",
    "            self.deconv2 = nn.ConvTranspose2d(d*8, d*4, 4, 2, 1)\n",
    "            self.deconv2_bn = nn.BatchNorm2d(d*4)\n",
    "            self.deconv3 = nn.ConvTranspose2d(d*4, d*2, 4, 2, 1)\n",
    "            self.deconv3_bn = nn.BatchNorm2d(d*2)\n",
    "            self.deconv4 = nn.ConvTranspose2d(d*2, d, 4, 2, 1)\n",
    "            self.deconv4_bn = nn.BatchNorm2d(d)\n",
    "            self.deconv5 = nn.ConvTranspose2d(d, 1, 4, 2, 1)\n",
    "\n",
    "        # forward method\n",
    "        def forward(self, input):\n",
    "            x = F.relu(self.deconv1_bn(self.deconv1(input)))\n",
    "            x = F.relu(self.deconv2_bn(self.deconv2(x)))\n",
    "            x = F.relu(self.deconv3_bn(self.deconv3(x)))\n",
    "            x = F.relu(self.deconv4_bn(self.deconv4(x)))\n",
    "            x = F.tanh(self.deconv5(x))\n",
    "            return x"
   ]
  },
  {
   "cell_type": "code",
   "execution_count": 7,
   "metadata": {
    "colab": {
     "base_uri": "https://localhost:8080/",
     "height": 611
    },
    "colab_type": "code",
    "executionInfo": {
     "elapsed": 115151,
     "status": "ok",
     "timestamp": 1572128696745,
     "user": {
      "displayName": "Babhru Joshi",
      "photoUrl": "",
      "userId": "09323046707416982964"
     },
     "user_tz": 420
    },
    "id": "h0p4ErD3D-I_",
    "outputId": "fc99710f-8bce-4ab5-d239-fff6aeca02d9"
   },
   "outputs": [
    {
     "data": {
      "text/plain": [
       "<All keys matched successfully>"
      ]
     },
     "execution_count": 7,
     "metadata": {},
     "output_type": "execute_result"
    }
   ],
   "source": [
    "code_dim_dist =50\n",
    "code_dim_signal = 100\n",
    "epochs =500\n",
    "lr_h=1.\n",
    "lr_m = 1.\n",
    "height = 64\n",
    "\n",
    "image_num = 5 # Pick a number between 0-9\n",
    "\n",
    "use_cuda = False\n",
    "device = torch.device(\"cuda:0\" if use_cuda and torch.cuda.is_available() else \"cpu\")\n",
    "\n",
    "def maybe_cuda(tensor):\n",
    "    return tensor.cuda() if use_cuda else tensor\n",
    "\n",
    "#########    distortion code    #########\n",
    "TRANSFORM_IMG = transforms.Compose([\n",
    "        transforms.Grayscale(num_output_channels=1),\n",
    "    transforms.Resize(height),\n",
    "    transforms.ToTensor()\n",
    "        ])\n",
    "\n",
    "#########   Load distortion data\n",
    "#########   One of the ditortion will be randomly selected\n",
    "train_set_dist = IndexedDataset(torchvision.datasets.ImageFolder(root='Distortion_Used/',\n",
    "          transform=TRANSFORM_IMG)\n",
    "                           )\n",
    "train_loader_dist = torch.utils.data.DataLoader(dataset=train_set_dist,\n",
    "    batch_size=1, shuffle=True,\n",
    "    drop_last=True, num_workers =8, pin_memory = use_cuda)\n",
    "\n",
    "#########      Initialize the weights of distortion generator\n",
    "g_dist = Generator_dist(code_dim_dist)\n",
    "g_dist.load_state_dict(torch.load('weights/Distortion_spread_Gen_cd50_h64.pwf', map_location=lambda storage, loc: storage))\n",
    "\n",
    "#########     signal code       #########\n",
    "\n",
    "#########     Load MNIST dataset \n",
    "train_set_signal = IndexedDataset(\n",
    "    MNIST(root='./data/MNIST', download = True, train = True,\n",
    "         transform=transforms.Compose([\n",
    "             transforms.Resize(64),\n",
    "             transforms.ToTensor()\n",
    "         ]))\n",
    "    )\n",
    "\n",
    "train_loader_signal = torch.utils.data.DataLoader(dataset=train_set_signal,\n",
    "    batch_size=1, shuffle=True,\n",
    "    drop_last=True, num_workers =8, pin_memory = use_cuda)\n",
    "\n",
    "#########      Initialize the weights of MNIST (signal) generator\n",
    "g_signal = Generator_signal(code_dim_signal)\n",
    "g_signal.load_state_dict(torch.load('weights/MNIST_DCGAN_Gen_cd100_h64.pwf', map_location=lambda storage, loc: storage))\n"
   ]
  },
  {
   "cell_type": "code",
   "execution_count": 10,
   "metadata": {},
   "outputs": [
    {
     "data": {
      "text/plain": [
       "<matplotlib.image.AxesImage at 0x12cbc9bd0>"
      ]
     },
     "execution_count": 10,
     "metadata": {},
     "output_type": "execute_result"
    },
    {
     "data": {
      "image/png": "[encoded data removed]",
      "text/plain": [
       "<Figure size 432x288 with 1 Axes>"
      ]
     },
     "metadata": {
      "needs_background": "light"
     },
     "output_type": "display_data"
    }
   ],
   "source": [
    "#########      creating modulated data         #########\n",
    "dist_example = enumerate(train_loader_dist)\n",
    "i, (dist_example_data,_,idx) = next(dist_example)\n",
    "\n",
    "#########      Select a distortion image\n",
    "x0 = dist_example_data[0][0]\n",
    "\n",
    "signal_example = enumerate(train_loader_signal)\n",
    "i, (signal_example_data,target_example_data,idx) = next(signal_example)\n",
    "\n",
    "##########      Select an MNIST image with the number in the image as \"image_num\" (seleted above)\n",
    "while target_example_data[0].numpy() != image_num:\n",
    "  i, (signal_example_data,target_example_data,idx) = next(signal_example)\n",
    "\n",
    "w0 = 1-signal_example_data[0][0]\n",
    "\n",
    "#########   observatiomn\n",
    "y0 = torch.mul(w0, x0)\n",
    "\n",
    "plt.imshow(y0,cmap='gray')"
   ]
  },
  {
   "cell_type": "code",
   "execution_count": 11,
   "metadata": {},
   "outputs": [
    {
     "name": "stdout",
     "output_type": "stream",
     "text": [
      "epoch = 1, loss = 0.09164057, changed = 1, norm of gradient = 0.17520623\n",
      "epoch = 50, loss = 0.0061988486, changed = 1, norm of gradient = 0.0024198915\n",
      "epoch = 100, loss = 0.005311169, changed = 1, norm of gradient = 0.0010367406\n",
      "epoch = 150, loss = 0.0047938414, changed = 0, norm of gradient = 0.0013847841\n",
      "epoch = 200, loss = 0.0044661057, changed = 0, norm of gradient = 0.0004603647\n",
      "epoch = 250, loss = 0.004413876, changed = 0, norm of gradient = 0.0003013504\n",
      "epoch = 300, loss = 0.0043859147, changed = 0, norm of gradient = 0.0002698961\n",
      "epoch = 350, loss = 0.0043647923, changed = 0, norm of gradient = 0.00024303388\n",
      "epoch = 400, loss = 0.00434904, changed = 0, norm of gradient = 0.00021741257\n",
      "epoch = 450, loss = 0.004335517, changed = 0, norm of gradient = 0.00020580518\n",
      "epoch = 500, loss = 0.0043245396, changed = 0, norm of gradient = 0.00018851022\n",
      "Done!\n"
     ]
    }
   ],
   "source": [
    "h = maybe_cuda(torch.randn(1,code_dim_signal))\n",
    "h = Variable(h,requires_grad=True)\n",
    "\n",
    "m = maybe_cuda(torch.randn(1,code_dim_dist))\n",
    "m = Variable(m, requires_grad=True)\n",
    "\n",
    "\n",
    "optimizer = SGD([\n",
    "    {'params': h, 'lr':lr_h},\n",
    "    {'params': m, 'lr':lr_m}\n",
    "],momentum=0.9)\n",
    "\n",
    "\n",
    "grad_size = 1\n",
    "epoch = 0\n",
    "#########      FIRST LOOP       ####################\n",
    "\n",
    "#########      Check if the reflection (about h and m axis) of current guess \n",
    "#########      has lower objective value\n",
    "h_temp_0 = h.data\n",
    "m_temp_0 = m.data\n",
    "h_temp_1 = h.data\n",
    "m_temp_1 = m.data\n",
    "change = 0\n",
    "y_temp_0 = torch.mul(g_dist(m_temp_0.view(1,code_dim_dist,1,1)).view(1,1,height,height),g_signal(h_temp_0.view(1,code_dim_signal,1,1)))\n",
    "y_temp_1 = torch.mul(g_dist(-1*m_temp_0.view(1,code_dim_dist,1,1)).view(1,1,height,height),g_signal(h_temp_0.view(1,code_dim_signal,1,1)))\n",
    "\n",
    "if (y_temp_1-y0).pow(2).mean()<(y_temp_0-y0).pow(2).mean():\n",
    "    y_temp_0=y_temp_1\n",
    "    m_temp_1 = -1*m_temp_0\n",
    "    h_temp_1 = h_temp_0\n",
    "    change =1\n",
    "\n",
    "y_temp_1 = torch.mul(g_dist(m_temp_0.view(1,code_dim_dist,1,1)).view(1,1,height,height),g_signal(-1*h_temp_0.view(1,code_dim_signal,1,1)))\n",
    "if (y_temp_1-y0).pow(2).mean()<(y_temp_0-y0).pow(2).mean():\n",
    "    y_temp_0=y_temp_1\n",
    "    h_temp_1 = -1*h_temp_0 \n",
    "    m_temp_1 = m_temp_0\n",
    "    change=2\n",
    "\n",
    "y_temp_1 = torch.mul(g_dist(-1*m_temp_0.view(1,code_dim_dist,1,1)).view(1,1,height,height),g_signal(-1*h_temp_0.view(1,code_dim_signal,1,1)))\n",
    "if (y_temp_1-y0).pow(2).mean()<(y_temp_0-y0).pow(2).mean():\n",
    "    y_temp_0=y_temp_1\n",
    "    h_temp_1 = -1*h_temp_0 \n",
    "    m_temp_1 = -1*m_temp_0\n",
    "    change=3\n",
    "\n",
    "h.data = h_temp_1\n",
    "m.data = m_temp_1\n",
    "\n",
    "y_pred = torch.mul(g_dist(m.view(1,code_dim_dist,1,1)).view(1,1,height,height),g_signal(h.view(1,code_dim_signal,1,1)))\n",
    "loss=(y_pred-y0).pow(2).mean()\n",
    "optimizer.zero_grad()\n",
    "loss.backward()  \n",
    "optimizer.step()\n",
    "\n",
    "grad_size = h.grad.norm()+m.grad.norm()\n",
    "    \n",
    "epoch = epoch +1;\n",
    "print(\"epoch = %s, loss = %s, changed = %s, norm of gradient = %s\" %(epoch,loss.cpu().data.numpy(),change,grad_size.cpu().data.numpy()))   \n",
    "######## END FIRST LOOP ###################\n",
    "\n",
    "\n",
    "while epoch<500:\n",
    "    \n",
    "    if epoch%100 == 0: \n",
    "        #########      Check if the reflection (about h and m axis) of current guess \n",
    "        #########      has lower objective value\n",
    "        h_temp_0 = h.data\n",
    "        m_temp_0 = m.data\n",
    "        h_temp_1 = h.data\n",
    "        m_temp_1 = m.data\n",
    "        change = 0\n",
    "        y_temp_0 = torch.mul(g_dist(m_temp_0.view(1,code_dim_dist,1,1)).view(1,1,height,height),g_signal(h_temp_0.view(1,code_dim_signal,1,1)))\n",
    "        y_temp_1 = torch.mul(g_dist(-1*m_temp_0.view(1,code_dim_dist,1,1)).view(1,1,height,height),g_signal(h_temp_0.view(1,code_dim_signal,1,1)))\n",
    "\n",
    "        if (y_temp_1-y0).pow(2).mean()<(y_temp_0-y0).pow(2).mean():\n",
    "          y_temp_0 =y_temp_1\n",
    "          m_temp_1 = -1*m_temp_0\n",
    "          h_temp_1 = h_temp_0\n",
    "          change =1\n",
    "\n",
    "        y_temp_1 = torch.mul(g_dist(m_temp_0.view(1,code_dim_dist,1,1)).view(1,1,height,height),g_signal(-1*h_temp_0.view(1,code_dim_signal,1,1)))\n",
    "        if (y_temp_1-y0).pow(2).mean()<(y_temp_0-y0).pow(2).mean():\n",
    "          y_temp_0=y_temp_1\n",
    "          h_temp_1 = -1*h_temp_0 \n",
    "          m_temp_1 = m_temp_0\n",
    "          change=2\n",
    "\n",
    "        y_temp_1 = torch.mul(g_dist(-1*m_temp_0.view(1,code_dim_dist,1,1)).view(1,1,height,height),g_signal(-1*h_temp_0.view(1,code_dim_signal,1,1)))\n",
    "        if (y_temp_1-y0).pow(2).mean()<(y_temp_0-y0).pow(2).mean():\n",
    "          y_temp_0=y_temp_1\n",
    "          h_temp_1 = -1*h_temp_0 \n",
    "          m_temp_1 = -1*m_temp_0\n",
    "          change=3\n",
    "\n",
    "    scale = h.data.norm()/m.data.norm()\n",
    "    scale = scale.sqrt()\n",
    "    \n",
    "    h.data = h.data/scale\n",
    "    m.data = m.data*scale\n",
    "        \n",
    "    y_pred = torch.mul(g_dist(m.view(1,code_dim_dist,1,1)).view(1,1,height,height),g_signal(h.view(1,code_dim_signal,1,1)))\n",
    "    loss=(y_pred-y0).pow(2).mean()\n",
    "    optimizer.zero_grad()\n",
    "    loss.backward()  \n",
    "    optimizer.step()\n",
    "\n",
    "    grad_size = h.grad.norm()+m.grad.norm()\n",
    "    \n",
    "    epoch = epoch +1;\n",
    "    if epoch % 50 == 0:\n",
    "        print(\"epoch = %s, loss = %s, changed = %s, norm of gradient = %s\" %(epoch,loss.cpu().data.numpy(),change,grad_size.cpu().data.numpy()))   \n",
    "    \n",
    "print(\"Done!\")"
   ]
  },
  {
   "cell_type": "code",
   "execution_count": 12,
   "metadata": {
    "colab": {
     "base_uri": "https://localhost:8080/",
     "height": 339
    },
    "colab_type": "code",
    "executionInfo": {
     "elapsed": 1274,
     "status": "ok",
     "timestamp": 1572128222183,
     "user": {
      "displayName": "Babhru Joshi",
      "photoUrl": "",
      "userId": "09323046707416982964"
     },
     "user_tz": 420
    },
    "id": "OJtAdOUUiF8E",
    "outputId": "23c9ec78-af02-42a3-b51a-e7145d12af7f"
   },
   "outputs": [
    {
     "data": {
      "image/png": "[encoded data removed]",
      "text/plain": [
       "<Figure size 432x288 with 3 Axes>"
      ]
     },
     "metadata": {
      "needs_background": "light"
     },
     "output_type": "display_data"
    }
   ],
   "source": [
    "#########    Plot Results      #########\n",
    "\n",
    "fig, axs = plt.subplots(1,3)\n",
    "fig.suptitle('demodulated image')\n",
    "axs[0].imshow(y0,cmap='gray')\n",
    "axs[0].axes.get_xaxis().set_visible(False) \n",
    "axs[0].axes.get_yaxis().set_visible(False) \n",
    "\n",
    "axs[1].imshow(g_dist(m.view(1,code_dim_dist,1,1)).view(1,1,height,height)[0][0].detach().numpy(),cmap='gray')\n",
    "axs[1].axes.get_xaxis().set_visible(False) \n",
    "axs[1].axes.get_yaxis().set_visible(False) \n",
    "\n",
    "axs[2].imshow(g_signal(h.view(1,code_dim_signal,1,1))[0][0].detach().numpy(),cmap='gray')\n",
    "axs[2].axes.get_xaxis().set_visible(False) \n",
    "axs[2].axes.get_yaxis().set_visible(False) \n"
   ]
  },
  {
   "cell_type": "code",
   "execution_count": null,
   "metadata": {},
   "outputs": [],
   "source": []
  }
 ],
 "metadata": {
  "colab": {
   "collapsed_sections": [],
   "name": "Generative_blind_demodulation.ipynb",
   "provenance": []
  },
  "kernelspec": {
   "display_name": "Python 3",
   "language": "python",
   "name": "python3"
  },
  "language_info": {
   "codemirror_mode": {
    "name": "ipython",
    "version": 3
   },
   "file_extension": ".py",
   "mimetype": "text/x-python",
   "name": "python",
   "nbconvert_exporter": "python",
   "pygments_lexer": "ipython3",
   "version": "3.7.4"
  },
  "widgets": {
   "state": {},
   "version": "1.1.2"
  }
 },
 "nbformat": 4,
 "nbformat_minor": 1
}
